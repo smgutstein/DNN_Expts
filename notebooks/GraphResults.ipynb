{
 "cells": [
  {
   "cell_type": "code",
   "execution_count": 1,
   "id": "recognized-arbitration",
   "metadata": {},
   "outputs": [],
   "source": [
    "%matplotlib inline\n",
    "from collections import defaultdict, OrderedDict\n",
    "import matplotlib.pyplot as plt\n",
    "import numpy as np\n",
    "import os\n",
    "import pickle\n",
    "\n",
    "prefix_dir = '/barleyhome/sgutstei/Projects/opt-tfer-2/results/opt_tfer_expts'\n",
    "expt_dir = 'tinyimagenet200_notliving_living_expts/wide_resnet_28_10_arch'\n",
    "src_dir0 = 'full_src_nets'\n",
    "tfer_dir0 = 'tfer_nets/spc_10'\n",
    "spc_dir = 'spc_10'\n",
    "\n",
    "root_tfer_dir0 = os.path.join(prefix_dir, expt_dir, tfer_dir0)\n",
    "root_src_dir0 = os.path.join(prefix_dir, expt_dir, src_dir0)\n",
    "\n",
    "expts_src0 = os.listdir(root_src_dir0)\n",
    "expts_tfer0 = os.listdir(root_tfer_dir0)"
   ]
  },
  {
   "cell_type": "code",
   "execution_count": 2,
   "id": "occupational-naples",
   "metadata": {},
   "outputs": [],
   "source": [
    "def two_decimal_places(x):\n",
    "    y = float(int(100 * x))/100.0\n",
    "    return y"
   ]
  },
  {
   "cell_type": "code",
   "execution_count": 3,
   "id": "configured-requirement",
   "metadata": {},
   "outputs": [],
   "source": [
    "def get_src_stats_dict(root_dir, machine_dirs):\n",
    "    data_dict = defaultdict(list)\n",
    "    for curr_mach in machine_dirs:\n",
    "        curr_file = os.path.join(root_dir, curr_mach,'results.txt')\n",
    "        with open(curr_file,'r') as f:\n",
    "            fl = f.readlines()\n",
    "            data = [x for x in fl if \"Epoch\" in x]\n",
    "            for curr_data in data:\n",
    "                epoch = int(curr_data.split(\"Epoch\")[1].strip().split(\":\")[0])\n",
    "                val = float(curr_data.split(\"val_acc_top_1:\")[1].strip().split()[0])*100.0\n",
    "                data_dict[epoch].append(val)\n",
    "                \n",
    "    stat_dict = OrderedDict()\n",
    "    for x in sorted(data_dict.keys()):\n",
    "        dd_min = two_decimal_places(np.min(data_dict[x]))\n",
    "        dd_med = two_decimal_places(np.median(data_dict[x]))\n",
    "        dd_max = two_decimal_places(np.max(data_dict[x]))\n",
    "        stat_dict[x] = {'min':dd_min, 'median':dd_med, 'max':dd_max}\n",
    "    return stat_dict"
   ]
  },
  {
   "cell_type": "code",
   "execution_count": 4,
   "id": "composite-corps",
   "metadata": {},
   "outputs": [],
   "source": [
    "def get_best_epoch(stats_dict):\n",
    "    best_epoch = 0\n",
    "    for curr_epoch in stats_dict:\n",
    "        if stats_dict[curr_epoch]['median'] > stats_dict[best_epoch]['median']:\n",
    "            best_epoch = curr_epoch\n",
    "    return best_epoch\n"
   ]
  },
  {
   "cell_type": "code",
   "execution_count": 5,
   "id": "excited-outdoors",
   "metadata": {},
   "outputs": [],
   "source": [
    "def get_tfer_stats_dict(root_dir, epochs, bes_src_epoch):\n",
    "    data_dict = defaultdict(list)\n",
    "    for curr_epoch in epochs:\n",
    "        curr_epoch_dir = os.path.join(root_dir, curr_epoch)\n",
    "        curr_key = curr_epoch.split('_')[-1]\n",
    "        if curr_key == 'best':\n",
    "            curr_key = best_src_epoch\n",
    "        else:\n",
    "            curr_key = int(curr_key)\n",
    "        machines = os.listdir(curr_epoch_dir)\n",
    "        for curr_machine in machines:\n",
    "            curr_machine_dir = os.path.join(curr_epoch_dir, curr_machine)\n",
    "            tr_sets = os.listdir(curr_machine_dir)\n",
    "            for curr_tr_set in tr_sets:\n",
    "                curr_tr_dir = os.path.join(curr_machine_dir, curr_tr_set)\n",
    "                v_dirs = os.listdir(curr_tr_dir)[0]\n",
    "                file_dir = os.path.join(curr_tr_dir, v_dirs, 'metadata')\n",
    "                \n",
    "                with open(os.path.join(file_dir,'Expt_output.log')) as f:\n",
    "                    fl = f.readlines()\n",
    "                    #print (fl[-1].split(\":\")[-1].split('%')[0].strip())\n",
    "                    try:\n",
    "                        acc = float(fl[-1].split(\":\")[-1].split('%')[0].strip())\n",
    "                        data_dict[curr_key].append(acc)\n",
    "                    except:\n",
    "                        print(\"Skip \", curr_key, curr_tr_set)\n",
    "                \n",
    "    stat_dict = OrderedDict()\n",
    "    full_dict = OrderedDict()\n",
    "    for x in sorted(data_dict.keys()):\n",
    "        dd_min = two_decimal_places(np.min(data_dict[x]))\n",
    "        dd_med = two_decimal_places(np.median(data_dict[x]))\n",
    "        dd_max = two_decimal_places(np.max(data_dict[x]))\n",
    "        stat_dict[x] = {'min':dd_min, 'median':dd_med, 'max':dd_max}\n",
    "        full_dict[x] = sorted(data_dict[x])\n",
    "\n",
    "    return stat_dict, full_dict"
   ]
  },
  {
   "cell_type": "code",
   "execution_count": 15,
   "id": "measured-quest",
   "metadata": {},
   "outputs": [],
   "source": [
    "def make_graph(src_net_stats, tfer_net_stats, \n",
    "               legend_loc = None, save_name = None):\n",
    "    \n",
    "    if legend_loc is None:\n",
    "        legend_loc = 'lower right'\n",
    "    \n",
    "    best_src = get_best_epoch(src_net_stats)\n",
    "    best_tfer = get_best_epoch(tfer_net_stats)\n",
    "\n",
    "    fig, ax1 = plt.subplots(1, 1, sharex=True)\n",
    "    ax2=ax1.twinx()\n",
    "    src_x = []\n",
    "    src_y = []\n",
    "    for k,v in src_net_stats.items():\n",
    "        src_x.append(k)\n",
    "        src_y.append(v['median'])\n",
    "    ax2.plot(src_x, src_y, color='darkgreen')\n",
    "\n",
    "    tfer_x = []\n",
    "    tfer_min = []\n",
    "    tfer_med = []\n",
    "    tfer_max = []\n",
    "    for k,v in tfer_net_stats.items():\n",
    "        tfer_x.append(k)\n",
    "        tfer_min.append(v['min'])\n",
    "        tfer_med.append(v['median'])\n",
    "        tfer_max.append(v['max'])\n",
    "        '''\n",
    "        if k == 0:\n",
    "            color = 'darkred'\n",
    "            ax1.plot([0,200],[v['median'],v['median']],\n",
    "                  color = color, label= \"No Tfer\")\n",
    "        elif k == best_src:\n",
    "            color = 'darkorange'\n",
    "            ax1.plot([0,200],[v['median'],v['median']],\n",
    "                  color = color, label= \"Best Src Task Epoch\")\n",
    "        elif k == best_tfer:\n",
    "            color = 'darkblue'\n",
    "            ax1.plot([0,200],[v['median'],v['median']],\n",
    "                  color = color, label=\"Best Epoch for Tfer\")\n",
    "        '''\n",
    "        if k == 0:\n",
    "            color = 'darkred'\n",
    "            ax1.plot([0,200],[v['median'],v['median']],\n",
    "                  color = color, label= \"Label 1\")\n",
    "        elif k == best_src:\n",
    "            color = 'darkorange'\n",
    "            ax1.plot([0,200],[v['median'],v['median']],\n",
    "                  color = color, label= \"Label 2\")\n",
    "        elif k == best_tfer:\n",
    "            color = 'darkblue'\n",
    "            ax1.plot([0,200],[v['median'],v['median']],\n",
    "                  color = color, label=\"Label 3\")\n",
    "\n",
    "        else:\n",
    "            color = 'dodgerblue'\n",
    "\n",
    "        ax1.plot([k, k],[v['min'], v['max']],\n",
    "                  color = color)\n",
    "        ax1.plot([k],[v['max']],marker='_',\n",
    "                  color = color)\n",
    "        ax1.plot([k],[v['median']],marker='8',\n",
    "                  color = color)\n",
    "        ax1.plot([k],[v['min']],marker='_',\n",
    "                  color = color)\n",
    "        ax1.set_ylim([0,50])\n",
    "\n",
    "        #ax1.set_xlabel('Source Task Training Epochs', fontsize=12)\n",
    "        #ax1.set_ylabel('Transfer Task Accuracy', fontsize=12)\n",
    "        #ax1.legend(loc=legend_loc)#, bbox_to_anchor=(1.6,0.5))\n",
    "        #ax2.set_ylabel('Source Task Accuracy', fontsize=12)\n",
    "        #plt.title('Transfer Task Accuracy By Epoch \\nWith Src. Task Accuracy and Overtraining')\n",
    "        \n",
    "        ax1.set_xlabel('X axis', fontsize=12)\n",
    "        ax1.set_ylabel('Y axis 1', fontsize=12)\n",
    "        ax1.legend(loc=legend_loc)#, bbox_to_anchor=(1.6,0.5))\n",
    "        ax2.set_ylabel('Y axis 2', fontsize=12)\n",
    "        plt.title('Title')\n",
    "        \n",
    "        if save_name is not None:\n",
    "            plt.savefig(save_name)"
   ]
  },
  {
   "cell_type": "code",
   "execution_count": 16,
   "id": "collected-curtis",
   "metadata": {},
   "outputs": [],
   "source": [
    "# Define components of root paths to data\n",
    "prefix_dir = '/barleyhome/sgutstei/Projects/opt-tfer-2/results/opt_tfer_expts'\n",
    "expt_dir = 'tinyimagenet200_notliving_living_expts/wide_resnet_28_10_arch'\n",
    "src_dir0 = 'full_src_nets'\n",
    "tfer_dir0 = 'tfer_nets/spc_10'\n",
    "spc_dir = 'spc_10'\n",
    "\n",
    "# Get root paths to data\n",
    "root_tfer_dir0 = os.path.join(prefix_dir, expt_dir, tfer_dir0)\n",
    "root_src_dir0 = os.path.join(prefix_dir, expt_dir, src_dir0)\n",
    "\n",
    "# Get lists of expts\n",
    "expts_src0 = os.listdir(root_src_dir0)\n",
    "expts_tfer0 = os.listdir(root_tfer_dir0)\n",
    "\n",
    "# Get Src and Trgt set data\n",
    "src_stats_dict = get_src_stats_dict(root_src_dir0, expts_src0)\n",
    "best_src_epoch = get_best_epoch(src_stats_dict)\n",
    "tfer_stats_dict, tfer_full_dict = get_tfer_stats_dict(root_tfer_dir0, expts_tfer0, best_src_epoch)"
   ]
  },
  {
   "cell_type": "code",
   "execution_count": 17,
   "id": "congressional-shock",
   "metadata": {},
   "outputs": [
    {
     "data": {
      "image/png": "[encoded data removed]",
      "text/plain": [
       "<Figure size 432x288 with 2 Axes>"
      ]
     },
     "metadata": {
      "needs_background": "light"
     },
     "output_type": "display_data"
    }
   ],
   "source": [
    "make_graph(src_stats_dict, tfer_stats_dict, save_name= 'Temp.png')#'WideResnet_TinyImagenet200_FullSrc_Prelim_Results_2.png')"
   ]
  },
  {
   "cell_type": "code",
   "execution_count": null,
   "id": "pretty-guidance",
   "metadata": {},
   "outputs": [],
   "source": [
    "tfer_stats_dict"
   ]
  },
  {
   "cell_type": "code",
   "execution_count": null,
   "id": "subtle-middle",
   "metadata": {},
   "outputs": [],
   "source": [
    "tfer_full_dict"
   ]
  },
  {
   "cell_type": "code",
   "execution_count": null,
   "id": "atlantic-description",
   "metadata": {},
   "outputs": [],
   "source": [
    "tfer_full_dict[186]"
   ]
  },
  {
   "cell_type": "code",
   "execution_count": null,
   "id": "lyric-chester",
   "metadata": {},
   "outputs": [],
   "source": [
    "tfer_full_dict[70]"
   ]
  },
  {
   "cell_type": "code",
   "execution_count": null,
   "id": "handled-karen",
   "metadata": {},
   "outputs": [],
   "source": []
  }
 ],
 "metadata": {
  "kernelspec": {
   "display_name": "Python 3",
   "language": "python",
   "name": "python3"
  },
  "language_info": {
   "codemirror_mode": {
    "name": "ipython",
    "version": 3
   },
   "file_extension": ".py",
   "mimetype": "text/x-python",
   "name": "python",
   "nbconvert_exporter": "python",
   "pygments_lexer": "ipython3",
   "version": "3.7.6"
  }
 },
 "nbformat": 4,
 "nbformat_minor": 5
}
