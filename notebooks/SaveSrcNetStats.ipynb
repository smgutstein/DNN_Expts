{
 "cells": [
  {
   "cell_type": "code",
   "execution_count": 1,
   "metadata": {},
   "outputs": [],
   "source": [
    "%matplotlib inline\n",
    "from collections import defaultdict\n",
    "import matplotlib.pyplot as plt\n",
    "import numpy as np\n",
    "import os\n",
    "import pickle\n",
    "prefix_dir = '/home/smgutstein/Projects/SG_Projects/opt-tfer/results/opt_tfer_expts/'\n",
    "expt_dir = 'caltec_expts/wide_resnet_28_10_arch/src_nets/workshop_expts'\n",
    "spc_dir = 'spc_10'\n",
    "root_dir = os.path.join(prefix_dir, expt_dir)"
   ]
  },
  {
   "cell_type": "code",
   "execution_count": 2,
   "metadata": {},
   "outputs": [],
   "source": [
    "machine_dirs = ['alt08.arl.army.mil_v0', 'alt09.arl.army.mil_v0', 'alt10.arl.army.mil_v0']"
   ]
  },
  {
   "cell_type": "code",
   "execution_count": 3,
   "metadata": {},
   "outputs": [
    {
     "ename": "FileNotFoundError",
     "evalue": "[Errno 2] No such file or directory: '/home/smgutstein/Projects/SG_Projects/opt-tfer/results/opt_tfer_expts/tinyimagenet200_notliving_living_expts/wide_resnet_28_10_arch/src_nets/workshop_expts/alt08.arl.army.mil_v0/results.txt'",
     "output_type": "error",
     "traceback": [
      "\u001b[0;31m---------------------------------------------------------------------------\u001b[0m",
      "\u001b[0;31mFileNotFoundError\u001b[0m                         Traceback (most recent call last)",
      "\u001b[0;32m<ipython-input-3-186c207883cf>\u001b[0m in \u001b[0;36m<module>\u001b[0;34m\u001b[0m\n\u001b[1;32m      2\u001b[0m \u001b[0;32mfor\u001b[0m \u001b[0mcurr_mach\u001b[0m \u001b[0;32min\u001b[0m \u001b[0mmachine_dirs\u001b[0m\u001b[0;34m:\u001b[0m\u001b[0;34m\u001b[0m\u001b[0;34m\u001b[0m\u001b[0m\n\u001b[1;32m      3\u001b[0m     \u001b[0mcurr_file\u001b[0m \u001b[0;34m=\u001b[0m \u001b[0mos\u001b[0m\u001b[0;34m.\u001b[0m\u001b[0mpath\u001b[0m\u001b[0;34m.\u001b[0m\u001b[0mjoin\u001b[0m\u001b[0;34m(\u001b[0m\u001b[0mroot_dir\u001b[0m\u001b[0;34m,\u001b[0m \u001b[0mcurr_mach\u001b[0m\u001b[0;34m,\u001b[0m\u001b[0;34m'results.txt'\u001b[0m\u001b[0;34m)\u001b[0m\u001b[0;34m\u001b[0m\u001b[0;34m\u001b[0m\u001b[0m\n\u001b[0;32m----> 4\u001b[0;31m     \u001b[0;32mwith\u001b[0m \u001b[0mopen\u001b[0m\u001b[0;34m(\u001b[0m\u001b[0mcurr_file\u001b[0m\u001b[0;34m,\u001b[0m\u001b[0;34m'r'\u001b[0m\u001b[0;34m)\u001b[0m \u001b[0;32mas\u001b[0m \u001b[0mf\u001b[0m\u001b[0;34m:\u001b[0m\u001b[0;34m\u001b[0m\u001b[0;34m\u001b[0m\u001b[0m\n\u001b[0m\u001b[1;32m      5\u001b[0m         \u001b[0mfl\u001b[0m \u001b[0;34m=\u001b[0m \u001b[0mf\u001b[0m\u001b[0;34m.\u001b[0m\u001b[0mreadlines\u001b[0m\u001b[0;34m(\u001b[0m\u001b[0;34m)\u001b[0m\u001b[0;34m\u001b[0m\u001b[0;34m\u001b[0m\u001b[0m\n\u001b[1;32m      6\u001b[0m         \u001b[0mdata\u001b[0m \u001b[0;34m=\u001b[0m \u001b[0;34m[\u001b[0m\u001b[0mx\u001b[0m \u001b[0;32mfor\u001b[0m \u001b[0mx\u001b[0m \u001b[0;32min\u001b[0m \u001b[0mfl\u001b[0m \u001b[0;32mif\u001b[0m \u001b[0;34m\"Epoch\"\u001b[0m \u001b[0;32min\u001b[0m \u001b[0mx\u001b[0m\u001b[0;34m]\u001b[0m\u001b[0;34m\u001b[0m\u001b[0;34m\u001b[0m\u001b[0m\n",
      "\u001b[0;31mFileNotFoundError\u001b[0m: [Errno 2] No such file or directory: '/home/smgutstein/Projects/SG_Projects/opt-tfer/results/opt_tfer_expts/tinyimagenet200_notliving_living_expts/wide_resnet_28_10_arch/src_nets/workshop_expts/alt08.arl.army.mil_v0/results.txt'"
     ]
    }
   ],
   "source": [
    "data_dict = defaultdict(list)\n",
    "for curr_mach in machine_dirs:\n",
    "    curr_file = os.path.join(root_dir, curr_mach,'results.txt')\n",
    "    with open(curr_file,'r') as f:\n",
    "        fl = f.readlines()\n",
    "        data = [x for x in fl if \"Epoch\" in x]\n",
    "        for curr_data in data:\n",
    "            epoch = int(curr_data.split(\"Epoch\")[1].strip().split(\":\")[0])\n",
    "            val = float(curr_data.split(\"val_acc_top_1:\")[1].strip().split()[0])\n",
    "            data_dict[epoch].append(val)\n"
   ]
  },
  {
   "cell_type": "code",
   "execution_count": 21,
   "metadata": {},
   "outputs": [],
   "source": [
    "stat_dict = dict()\n",
    "for x in data_dict:\n",
    "    stat_dict[x] = {'min':np.min(data_dict[x]), 'median':np.median(data_dict[x]), 'max':np.max(data_dict[x])}\n",
    "    "
   ]
  },
  {
   "cell_type": "code",
   "execution_count": 22,
   "metadata": {},
   "outputs": [
    {
     "data": {
      "text/plain": [
       "{0: {'min': 0.0132, 'median': 0.016, 'max': 0.0166},\n",
       " 1: {'min': 0.1218, 'median': 0.1329, 'max': 0.1342},\n",
       " 2: {'min': 0.192, 'median': 0.2074, 'max': 0.2111},\n",
       " 3: {'min': 0.2425, 'median': 0.2508, 'max': 0.2526},\n",
       " 4: {'min': 0.2954, 'median': 0.3034, 'max': 0.3062},\n",
       " 5: {'min': 0.3302, 'median': 0.3335, 'max': 0.3357},\n",
       " 6: {'min': 0.3498, 'median': 0.3542, 'max': 0.3618},\n",
       " 7: {'min': 0.3874, 'median': 0.3895, 'max': 0.392},\n",
       " 8: {'min': 0.3874, 'median': 0.4089, 'max': 0.4095},\n",
       " 9: {'min': 0.4003, 'median': 0.4142, 'max': 0.4274},\n",
       " 10: {'min': 0.4209, 'median': 0.4348, 'max': 0.4449},\n",
       " 11: {'min': 0.4375, 'median': 0.4446, 'max': 0.4523},\n",
       " 12: {'min': 0.4369, 'median': 0.4462, 'max': 0.4652},\n",
       " 13: {'min': 0.4514, 'median': 0.4603, 'max': 0.4763},\n",
       " 14: {'min': 0.4529, 'median': 0.4572, 'max': 0.4689},\n",
       " 15: {'min': 0.4412, 'median': 0.4705, 'max': 0.4717},\n",
       " 16: {'min': 0.4628, 'median': 0.48, 'max': 0.4874},\n",
       " 17: {'min': 0.4668, 'median': 0.4674, 'max': 0.472},\n",
       " 18: {'min': 0.4877, 'median': 0.4902, 'max': 0.4908},\n",
       " 19: {'min': 0.4683, 'median': 0.4794, 'max': 0.4908},\n",
       " 20: {'min': 0.4843, 'median': 0.4902, 'max': 0.4985},\n",
       " 21: {'min': 0.4754, 'median': 0.4815, 'max': 0.4932},\n",
       " 22: {'min': 0.4874, 'median': 0.4892, 'max': 0.5092},\n",
       " 23: {'min': 0.4834, 'median': 0.5, 'max': 0.5018},\n",
       " 24: {'min': 0.4871, 'median': 0.4957, 'max': 0.4978},\n",
       " 25: {'min': 0.4858, 'median': 0.4902, 'max': 0.5046},\n",
       " 26: {'min': 0.4868, 'median': 0.4963, 'max': 0.5031},\n",
       " 27: {'min': 0.4877, 'median': 0.4938, 'max': 0.4991},\n",
       " 28: {'min': 0.4868, 'median': 0.5117, 'max': 0.5185},\n",
       " 29: {'min': 0.5055, 'median': 0.5077, 'max': 0.5098},\n",
       " 30: {'min': 0.504, 'median': 0.5194, 'max': 0.5222},\n",
       " 31: {'min': 0.4994, 'median': 0.504, 'max': 0.5046},\n",
       " 32: {'min': 0.4929, 'median': 0.5028, 'max': 0.5108},\n",
       " 33: {'min': 0.4948, 'median': 0.496, 'max': 0.504},\n",
       " 34: {'min': 0.4831, 'median': 0.5114, 'max': 0.5203},\n",
       " 35: {'min': 0.4988, 'median': 0.5034, 'max': 0.5172},\n",
       " 36: {'min': 0.5003, 'median': 0.5065, 'max': 0.5077},\n",
       " 37: {'min': 0.5028, 'median': 0.5055, 'max': 0.52},\n",
       " 38: {'min': 0.5089, 'median': 0.5129, 'max': 0.5215},\n",
       " 39: {'min': 0.5, 'median': 0.5, 'max': 0.5052},\n",
       " 40: {'min': 0.4908, 'median': 0.5089, 'max': 0.5105},\n",
       " 41: {'min': 0.5055, 'median': 0.5132, 'max': 0.5175},\n",
       " 42: {'min': 0.5071, 'median': 0.5098, 'max': 0.5169},\n",
       " 43: {'min': 0.508, 'median': 0.5114, 'max': 0.5185},\n",
       " 44: {'min': 0.5022, 'median': 0.508, 'max': 0.5268},\n",
       " 45: {'min': 0.5095, 'median': 0.5145, 'max': 0.5351},\n",
       " 46: {'min': 0.5117, 'median': 0.5151, 'max': 0.5234},\n",
       " 47: {'min': 0.5028, 'median': 0.516, 'max': 0.5169},\n",
       " 48: {'min': 0.5028, 'median': 0.5172, 'max': 0.5252},\n",
       " 49: {'min': 0.5142, 'median': 0.5191, 'max': 0.5206},\n",
       " 50: {'min': 0.5046, 'median': 0.5154, 'max': 0.5203},\n",
       " 51: {'min': 0.5083, 'median': 0.5194, 'max': 0.5317},\n",
       " 52: {'min': 0.5058, 'median': 0.5111, 'max': 0.5126},\n",
       " 53: {'min': 0.5095, 'median': 0.5098, 'max': 0.516},\n",
       " 54: {'min': 0.5154, 'median': 0.5194, 'max': 0.5271},\n",
       " 55: {'min': 0.5049, 'median': 0.5062, 'max': 0.5163},\n",
       " 56: {'min': 0.5089, 'median': 0.5117, 'max': 0.512},\n",
       " 57: {'min': 0.5095, 'median': 0.5095, 'max': 0.5129},\n",
       " 58: {'min': 0.5058, 'median': 0.5095, 'max': 0.5175},\n",
       " 59: {'min': 0.5018, 'median': 0.5065, 'max': 0.5068},\n",
       " 60: {'min': 0.5028, 'median': 0.5046, 'max': 0.5237},\n",
       " 61: {'min': 0.5988, 'median': 0.5994, 'max': 0.6034},\n",
       " 62: {'min': 0.5991, 'median': 0.6018, 'max': 0.6074},\n",
       " 63: {'min': 0.5945, 'median': 0.5966, 'max': 0.6018},\n",
       " 64: {'min': 0.5877, 'median': 0.5898, 'max': 0.5905},\n",
       " 65: {'min': 0.5806, 'median': 0.5815, 'max': 0.5883},\n",
       " 66: {'min': 0.5782, 'median': 0.5788, 'max': 0.5809},\n",
       " 67: {'min': 0.5732, 'median': 0.5772, 'max': 0.5785},\n",
       " 68: {'min': 0.5652, 'median': 0.5772, 'max': 0.5809},\n",
       " 69: {'min': 0.5582, 'median': 0.5612, 'max': 0.5674},\n",
       " 70: {'min': 0.5542, 'median': 0.5671, 'max': 0.5714},\n",
       " 71: {'min': 0.5603, 'median': 0.5622, 'max': 0.5705},\n",
       " 72: {'min': 0.5542, 'median': 0.5548, 'max': 0.5668},\n",
       " 73: {'min': 0.5529, 'median': 0.5538, 'max': 0.5585},\n",
       " 74: {'min': 0.5483, 'median': 0.5557, 'max': 0.5689},\n",
       " 75: {'min': 0.5508, 'median': 0.5566, 'max': 0.5594},\n",
       " 76: {'min': 0.5502, 'median': 0.5502, 'max': 0.5542},\n",
       " 77: {'min': 0.5538, 'median': 0.5551, 'max': 0.5643},\n",
       " 78: {'min': 0.544, 'median': 0.5569, 'max': 0.5615},\n",
       " 79: {'min': 0.5498, 'median': 0.5566, 'max': 0.5603},\n",
       " 80: {'min': 0.5489, 'median': 0.5508, 'max': 0.5532},\n",
       " 81: {'min': 0.5437, 'median': 0.5495, 'max': 0.5542},\n",
       " 82: {'min': 0.5363, 'median': 0.548, 'max': 0.5514},\n",
       " 83: {'min': 0.5388, 'median': 0.5551, 'max': 0.5572},\n",
       " 84: {'min': 0.5535, 'median': 0.5542, 'max': 0.5582},\n",
       " 85: {'min': 0.5489, 'median': 0.5505, 'max': 0.556},\n",
       " 86: {'min': 0.5406, 'median': 0.5452, 'max': 0.5603},\n",
       " 87: {'min': 0.5458, 'median': 0.5526, 'max': 0.5538},\n",
       " 88: {'min': 0.5455, 'median': 0.5477, 'max': 0.5535},\n",
       " 89: {'min': 0.5342, 'median': 0.5449, 'max': 0.5495},\n",
       " 90: {'min': 0.54, 'median': 0.5437, 'max': 0.5462},\n",
       " 91: {'min': 0.5425, 'median': 0.5428, 'max': 0.5483},\n",
       " 92: {'min': 0.5351, 'median': 0.5458, 'max': 0.5551},\n",
       " 93: {'min': 0.5437, 'median': 0.5489, 'max': 0.5495},\n",
       " 94: {'min': 0.5437, 'median': 0.5437, 'max': 0.5514},\n",
       " 95: {'min': 0.5378, 'median': 0.5431, 'max': 0.5569},\n",
       " 96: {'min': 0.5382, 'median': 0.5471, 'max': 0.5532},\n",
       " 97: {'min': 0.5375, 'median': 0.5474, 'max': 0.5477},\n",
       " 98: {'min': 0.5369, 'median': 0.5434, 'max': 0.544},\n",
       " 99: {'min': 0.5366, 'median': 0.5425, 'max': 0.5572},\n",
       " 100: {'min': 0.5403, 'median': 0.5412, 'max': 0.5498},\n",
       " 101: {'min': 0.5422, 'median': 0.5449, 'max': 0.5511},\n",
       " 102: {'min': 0.536, 'median': 0.5378, 'max': 0.5489},\n",
       " 103: {'min': 0.5231, 'median': 0.5246, 'max': 0.5378},\n",
       " 104: {'min': 0.5311, 'median': 0.5388, 'max': 0.5468},\n",
       " 105: {'min': 0.5348, 'median': 0.5409, 'max': 0.5486},\n",
       " 106: {'min': 0.5252, 'median': 0.5363, 'max': 0.5425},\n",
       " 107: {'min': 0.5391, 'median': 0.5428, 'max': 0.5511},\n",
       " 108: {'min': 0.5366, 'median': 0.5415, 'max': 0.544},\n",
       " 109: {'min': 0.536, 'median': 0.5477, 'max': 0.5523},\n",
       " 110: {'min': 0.5332, 'median': 0.5455, 'max': 0.5508},\n",
       " 111: {'min': 0.5345, 'median': 0.5378, 'max': 0.5428},\n",
       " 112: {'min': 0.5385, 'median': 0.5394, 'max': 0.544},\n",
       " 113: {'min': 0.5403, 'median': 0.5403, 'max': 0.5477},\n",
       " 114: {'min': 0.5406, 'median': 0.5449, 'max': 0.5486},\n",
       " 115: {'min': 0.5289, 'median': 0.5422, 'max': 0.5502},\n",
       " 116: {'min': 0.5357, 'median': 0.5369, 'max': 0.5378},\n",
       " 117: {'min': 0.5345, 'median': 0.5375, 'max': 0.5422},\n",
       " 118: {'min': 0.5366, 'median': 0.5492, 'max': 0.5585},\n",
       " 119: {'min': 0.5425, 'median': 0.5449, 'max': 0.5486},\n",
       " 120: {'min': 0.5237, 'median': 0.5489, 'max': 0.5492},\n",
       " 121: {'min': 0.5732, 'median': 0.584, 'max': 0.5871},\n",
       " 122: {'min': 0.5812, 'median': 0.588, 'max': 0.588},\n",
       " 123: {'min': 0.5794, 'median': 0.5932, 'max': 0.5935},\n",
       " 124: {'min': 0.5855, 'median': 0.5886, 'max': 0.5942},\n",
       " 125: {'min': 0.5862, 'median': 0.5895, 'max': 0.5963},\n",
       " 126: {'min': 0.58, 'median': 0.5831, 'max': 0.5917},\n",
       " 127: {'min': 0.5898, 'median': 0.5917, 'max': 0.5929},\n",
       " 128: {'min': 0.5858, 'median': 0.5877, 'max': 0.5975},\n",
       " 129: {'min': 0.5877, 'median': 0.5883, 'max': 0.5895},\n",
       " 130: {'min': 0.5846, 'median': 0.5954, 'max': 0.6},\n",
       " 131: {'min': 0.5831, 'median': 0.5997, 'max': 0.5997},\n",
       " 132: {'min': 0.5929, 'median': 0.5972, 'max': 0.5997},\n",
       " 133: {'min': 0.5902, 'median': 0.5938, 'max': 0.5991},\n",
       " 134: {'min': 0.5905, 'median': 0.5908, 'max': 0.6003},\n",
       " 135: {'min': 0.5886, 'median': 0.5926, 'max': 0.6062},\n",
       " 136: {'min': 0.5862, 'median': 0.592, 'max': 0.5935},\n",
       " 137: {'min': 0.5982, 'median': 0.5985, 'max': 0.6025},\n",
       " 138: {'min': 0.5846, 'median': 0.5966, 'max': 0.6},\n",
       " 139: {'min': 0.5957, 'median': 0.5969, 'max': 0.5982},\n",
       " 140: {'min': 0.5982, 'median': 0.5997, 'max': 0.6052},\n",
       " 141: {'min': 0.5862, 'median': 0.5982, 'max': 0.6037},\n",
       " 142: {'min': 0.5917, 'median': 0.5966, 'max': 0.6055},\n",
       " 143: {'min': 0.5923, 'median': 0.5951, 'max': 0.6031},\n",
       " 144: {'min': 0.5954, 'median': 0.5969, 'max': 0.6028},\n",
       " 145: {'min': 0.588, 'median': 0.5948, 'max': 0.6003},\n",
       " 146: {'min': 0.5988, 'median': 0.6025, 'max': 0.6043},\n",
       " 147: {'min': 0.5886, 'median': 0.5938, 'max': 0.6062},\n",
       " 148: {'min': 0.592, 'median': 0.5923, 'max': 0.6031},\n",
       " 149: {'min': 0.5926, 'median': 0.6018, 'max': 0.604},\n",
       " 150: {'min': 0.5969, 'median': 0.5982, 'max': 0.6034},\n",
       " 151: {'min': 0.5963, 'median': 0.5969, 'max': 0.5982},\n",
       " 152: {'min': 0.5966, 'median': 0.5975, 'max': 0.5988},\n",
       " 153: {'min': 0.5963, 'median': 0.5985, 'max': 0.6123},\n",
       " 154: {'min': 0.5914, 'median': 0.5975, 'max': 0.5985},\n",
       " 155: {'min': 0.5914, 'median': 0.5942, 'max': 0.5975},\n",
       " 156: {'min': 0.5852, 'median': 0.5883, 'max': 0.6025},\n",
       " 157: {'min': 0.5874, 'median': 0.6003, 'max': 0.6012},\n",
       " 158: {'min': 0.5822, 'median': 0.6037, 'max': 0.6074},\n",
       " 159: {'min': 0.5975, 'median': 0.5997, 'max': 0.6028},\n",
       " 160: {'min': 0.5988, 'median': 0.6, 'max': 0.6},\n",
       " 161: {'min': 0.5978, 'median': 0.6, 'max': 0.6025},\n",
       " 162: {'min': 0.5972, 'median': 0.5972, 'max': 0.6083},\n",
       " 163: {'min': 0.6, 'median': 0.6015, 'max': 0.6058},\n",
       " 164: {'min': 0.5886, 'median': 0.5942, 'max': 0.604},\n",
       " 165: {'min': 0.5997, 'median': 0.6003, 'max': 0.6046},\n",
       " 166: {'min': 0.5923, 'median': 0.6, 'max': 0.6098},\n",
       " 167: {'min': 0.5938, 'median': 0.6052, 'max': 0.6055},\n",
       " 168: {'min': 0.5972, 'median': 0.5997, 'max': 0.6018},\n",
       " 169: {'min': 0.5938, 'median': 0.6009, 'max': 0.6031},\n",
       " 170: {'min': 0.5923, 'median': 0.5969, 'max': 0.5997},\n",
       " 171: {'min': 0.5923, 'median': 0.5982, 'max': 0.5982},\n",
       " 172: {'min': 0.5988, 'median': 0.5994, 'max': 0.6086},\n",
       " 173: {'min': 0.592, 'median': 0.5969, 'max': 0.6074},\n",
       " 174: {'min': 0.6006, 'median': 0.6034, 'max': 0.6043},\n",
       " 175: {'min': 0.5966, 'median': 0.6055, 'max': 0.6074},\n",
       " 176: {'min': 0.5975, 'median': 0.6009, 'max': 0.6018},\n",
       " 177: {'min': 0.5978, 'median': 0.5988, 'max': 0.6086},\n",
       " 178: {'min': 0.5865, 'median': 0.6006, 'max': 0.604},\n",
       " 179: {'min': 0.5997, 'median': 0.6003, 'max': 0.6031},\n",
       " 180: {'min': 0.5932, 'median': 0.5951, 'max': 0.5972},\n",
       " 181: {'min': 0.5935, 'median': 0.5948, 'max': 0.596},\n",
       " 182: {'min': 0.5978, 'median': 0.6025, 'max': 0.6043},\n",
       " 183: {'min': 0.5929, 'median': 0.5997, 'max': 0.6071},\n",
       " 184: {'min': 0.6009, 'median': 0.6037, 'max': 0.6058},\n",
       " 185: {'min': 0.5883, 'median': 0.5932, 'max': 0.6015},\n",
       " 186: {'min': 0.5969, 'median': 0.6003, 'max': 0.6065},\n",
       " 187: {'min': 0.5895, 'median': 0.5911, 'max': 0.6098},\n",
       " 188: {'min': 0.5997, 'median': 0.6003, 'max': 0.6015},\n",
       " 189: {'min': 0.5985, 'median': 0.6, 'max': 0.604},\n",
       " 190: {'min': 0.6, 'median': 0.6006, 'max': 0.6028},\n",
       " 191: {'min': 0.596, 'median': 0.6034, 'max': 0.608},\n",
       " 192: {'min': 0.5929, 'median': 0.5972, 'max': 0.6018},\n",
       " 193: {'min': 0.6028, 'median': 0.6065, 'max': 0.6086},\n",
       " 194: {'min': 0.5914, 'median': 0.5935, 'max': 0.6037},\n",
       " 195: {'min': 0.5905, 'median': 0.6028, 'max': 0.6086},\n",
       " 196: {'min': 0.5948, 'median': 0.5991, 'max': 0.6},\n",
       " 197: {'min': 0.5932, 'median': 0.5954, 'max': 0.6009},\n",
       " 198: {'min': 0.596, 'median': 0.6037, 'max': 0.604},\n",
       " 199: {'min': 0.5985, 'median': 0.6012, 'max': 0.6092},\n",
       " 200: {'min': 0.5988, 'median': 0.6, 'max': 0.6034}}"
      ]
     },
     "execution_count": 22,
     "metadata": {},
     "output_type": "execute_result"
    }
   ],
   "source": [
    "stat_dict"
   ]
  },
  {
   "cell_type": "code",
   "execution_count": 23,
   "metadata": {},
   "outputs": [
    {
     "data": {
      "text/plain": [
       "'/home/smgutstein/Projects/SG_Projects/opt-tfer/notebooks'"
      ]
     },
     "execution_count": 23,
     "metadata": {},
     "output_type": "execute_result"
    }
   ],
   "source": [
    "os.getcwd()"
   ]
  },
  {
   "cell_type": "code",
   "execution_count": 25,
   "metadata": {},
   "outputs": [
    {
     "data": {
      "text/plain": [
       "['src_net_stats.pkl']"
      ]
     },
     "execution_count": 25,
     "metadata": {},
     "output_type": "execute_result"
    }
   ],
   "source": [
    "[x for x in os.listdir('.') if 'pkl' in x]"
   ]
  },
  {
   "cell_type": "code",
   "execution_count": 27,
   "metadata": {},
   "outputs": [],
   "source": [
    "pickle.dump(stat_dict, open('tinyimagenet200_src_net_stats.pkl','wb'))"
   ]
  },
  {
   "cell_type": "code",
   "execution_count": null,
   "metadata": {},
   "outputs": [],
   "source": []
  }
 ],
 "metadata": {
  "kernelspec": {
   "display_name": "Python 3",
   "language": "python",
   "name": "python3"
  },
  "language_info": {
   "codemirror_mode": {
    "name": "ipython",
    "version": 3
   },
   "file_extension": ".py",
   "mimetype": "text/x-python",
   "name": "python",
   "nbconvert_exporter": "python",
   "pygments_lexer": "ipython3",
   "version": "3.7.6"
  }
 },
 "nbformat": 4,
 "nbformat_minor": 4
}
