{
 "cells": [
  {
   "cell_type": "code",
   "execution_count": 1,
   "metadata": {},
   "outputs": [],
   "source": [
    "import tensorflow as tf\n",
    "from tensorflow import keras\n",
    "from tensorflow.keras import layers\n",
    "import numpy as np\n",
    "import os\n",
    "import pickle\n",
    "import random\n",
    "data_path = '../results/cluster_files/test_cluster2.pkl'"
   ]
  },
  {
   "cell_type": "code",
   "execution_count": 2,
   "metadata": {},
   "outputs": [],
   "source": [
    "data = pickle.load(open(data_path,'rb'))\n",
    "train_data = data['train']\n",
    "epochs = sorted([x for x in train_data.keys()])\n",
    "curr_epoch = 100\n",
    "class_ids = sorted([x for x in train_data[curr_epoch].keys()])"
   ]
  },
  {
   "cell_type": "code",
   "execution_count": 3,
   "metadata": {},
   "outputs": [
    {
     "data": {
      "text/plain": [
       "((500, 640), (500, 65))"
      ]
     },
     "execution_count": 3,
     "metadata": {},
     "output_type": "execute_result"
    }
   ],
   "source": [
    "train_data[curr_epoch][0][0].shape, train_data[curr_epoch][0][1].shape"
   ]
  },
  {
   "cell_type": "code",
   "execution_count": 4,
   "metadata": {},
   "outputs": [],
   "source": [
    "def stack_data(in_dict):\n",
    "    class_ids = sorted(in_dict.keys())\n",
    "    class_idx = {x:ctr for ctr,x in enumerate(class_ids)}\n",
    "    num_classes = len(class_ids) \n",
    "\n",
    "    data = [in_dict[x][0] for x in class_ids]\n",
    "    labels = []\n",
    "    for x in class_ids:\n",
    "        num_samps, num_classes_b = in_dict[x][1].shape\n",
    "        assert num_classes == num_classes_b\n",
    "        label_array = np.zeros((num_samps, num_classes_b))\n",
    "        curr_hot = class_idx[x]\n",
    "        label_array[:,curr_hot] = 1\n",
    "        labels.append(label_array)\n",
    "\n",
    "    data = np.vstack(data)\n",
    "    labels = np.vstack(labels)\n",
    "\n",
    "    return data, labels"
   ]
  },
  {
   "cell_type": "code",
   "execution_count": 5,
   "metadata": {},
   "outputs": [],
   "source": [
    "data, labels = stack_data(train_data[curr_epoch])"
   ]
  },
  {
   "cell_type": "code",
   "execution_count": 6,
   "metadata": {},
   "outputs": [
    {
     "data": {
      "text/plain": [
       "((32500, 640), (32500, 65))"
      ]
     },
     "execution_count": 6,
     "metadata": {},
     "output_type": "execute_result"
    }
   ],
   "source": [
    "dataset = tf.data.Dataset.from_tensor_slices((data, labels))\n",
    "dataset = dataset.shuffle(buffer_size=1024).batch(64)\n",
    "data.shape, labels.shape"
   ]
  },
  {
   "cell_type": "code",
   "execution_count": 7,
   "metadata": {},
   "outputs": [],
   "source": [
    "reg = tf.keras.regularizers.l2(l=0.01)"
   ]
  },
  {
   "cell_type": "code",
   "execution_count": 8,
   "metadata": {},
   "outputs": [
    {
     "name": "stdout",
     "output_type": "stream",
     "text": [
      "Model: \"model\"\n",
      "_________________________________________________________________\n",
      "Layer (type)                 Output Shape              Param #   \n",
      "=================================================================\n",
      "LastHidden (InputLayer)      [(None, 640)]             0         \n",
      "_________________________________________________________________\n",
      "Output (Dense)               (None, 65)                41665     \n",
      "=================================================================\n",
      "Total params: 41,665\n",
      "Trainable params: 41,665\n",
      "Non-trainable params: 0\n",
      "_________________________________________________________________\n"
     ]
    }
   ],
   "source": [
    "inputs = keras.Input(shape=(640,), name=\"LastHidden\")\n",
    "outputs = tf.keras.layers.Dense(65, activation='softmax',kernel_regularizer=reg, name=\"Output\")(inputs)\n",
    "model = keras.Model(inputs=inputs, outputs=outputs)\n",
    "model.summary()"
   ]
  },
  {
   "cell_type": "code",
   "execution_count": 9,
   "metadata": {},
   "outputs": [],
   "source": [
    "loss_fnc = 'categorical_crossentropy'\n",
    "opt = tf.keras.optimizers.SGD(learning_rate=0.0005, momentum=0.9, nesterov=True)"
   ]
  },
  {
   "cell_type": "code",
   "execution_count": 12,
   "metadata": {},
   "outputs": [],
   "source": [
    "model.compile(\n",
    "    optimizer=opt,\n",
    "    loss=loss_fnc,\n",
    "    metrics=[tf.keras.metrics.CategoricalAccuracy(name=\"categorical_accuracy\", dtype=None)]\n",
    ")"
   ]
  },
  {
   "cell_type": "code",
   "execution_count": 13,
   "metadata": {},
   "outputs": [
    {
     "name": "stdout",
     "output_type": "stream",
     "text": [
      "Epoch 1/20\n",
      "508/508 [==============================] - 1s 3ms/step - loss: 0.7926 - categorical_accuracy: 0.9421\n",
      "Epoch 2/20\n",
      "508/508 [==============================] - 1s 3ms/step - loss: 0.7780 - categorical_accuracy: 0.9427\n",
      "Epoch 3/20\n",
      "508/508 [==============================] - 1s 3ms/step - loss: 0.7669 - categorical_accuracy: 0.9424\n",
      "Epoch 4/20\n",
      "508/508 [==============================] - 1s 3ms/step - loss: 0.7543 - categorical_accuracy: 0.9441\n",
      "Epoch 5/20\n",
      "508/508 [==============================] - 1s 3ms/step - loss: 0.7443 - categorical_accuracy: 0.9426\n",
      "Epoch 6/20\n",
      "508/508 [==============================] - 1s 3ms/step - loss: 0.7357 - categorical_accuracy: 0.9439\n",
      "Epoch 7/20\n",
      "508/508 [==============================] - 1s 3ms/step - loss: 0.7270 - categorical_accuracy: 0.9430\n",
      "Epoch 8/20\n",
      "508/508 [==============================] - 1s 3ms/step - loss: 0.7196 - categorical_accuracy: 0.9446\n",
      "Epoch 9/20\n",
      "508/508 [==============================] - 1s 3ms/step - loss: 0.7132 - categorical_accuracy: 0.9453\n",
      "Epoch 10/20\n",
      "508/508 [==============================] - 1s 3ms/step - loss: 0.7069 - categorical_accuracy: 0.9442\n",
      "Epoch 11/20\n",
      "508/508 [==============================] - 1s 3ms/step - loss: 0.7011 - categorical_accuracy: 0.9448\n",
      "Epoch 12/20\n",
      "508/508 [==============================] - 1s 3ms/step - loss: 0.6974 - categorical_accuracy: 0.9453\n",
      "Epoch 13/20\n",
      "508/508 [==============================] - 1s 3ms/step - loss: 0.6921 - categorical_accuracy: 0.9455\n",
      "Epoch 14/20\n",
      "508/508 [==============================] - 1s 3ms/step - loss: 0.6885 - categorical_accuracy: 0.9445\n",
      "Epoch 15/20\n",
      "508/508 [==============================] - 1s 3ms/step - loss: 0.6849 - categorical_accuracy: 0.9440\n",
      "Epoch 16/20\n",
      "508/508 [==============================] - 1s 3ms/step - loss: 0.6816 - categorical_accuracy: 0.9470\n",
      "Epoch 17/20\n",
      "508/508 [==============================] - 1s 3ms/step - loss: 0.6791 - categorical_accuracy: 0.9458\n",
      "Epoch 18/20\n",
      "508/508 [==============================] - 1s 3ms/step - loss: 0.6762 - categorical_accuracy: 0.9448\n",
      "Epoch 19/20\n",
      "508/508 [==============================] - 1s 2ms/step - loss: 0.6741 - categorical_accuracy: 0.9456\n",
      "Epoch 20/20\n",
      "508/508 [==============================] - 1s 3ms/step - loss: 0.6709 - categorical_accuracy: 0.9475\n"
     ]
    }
   ],
   "source": [
    "history = model.fit(dataset, epochs=20)"
   ]
  },
  {
   "cell_type": "code",
   "execution_count": null,
   "metadata": {},
   "outputs": [],
   "source": []
  }
 ],
 "metadata": {
  "kernelspec": {
   "display_name": "Python 3",
   "language": "python",
   "name": "python3"
  },
  "language_info": {
   "codemirror_mode": {
    "name": "ipython",
    "version": 3
   },
   "file_extension": ".py",
   "mimetype": "text/x-python",
   "name": "python",
   "nbconvert_exporter": "python",
   "pygments_lexer": "ipython3",
   "version": "3.8.5"
  }
 },
 "nbformat": 4,
 "nbformat_minor": 4
}
