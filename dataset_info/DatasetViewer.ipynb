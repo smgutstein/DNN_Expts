{
 "cells": [
  {
   "cell_type": "code",
   "execution_count": 2,
   "id": "casual-franchise",
   "metadata": {},
   "outputs": [],
   "source": [
    "%matplotlib inline\n",
    "from matplotlib.pyplot import imshow\n",
    "from collections import Counter\n",
    "import numpy as np\n",
    "import os\n",
    "from PIL import Image\n",
    "import pickle\n",
    "import random"
   ]
  },
  {
   "cell_type": "code",
   "execution_count": 3,
   "id": "chronic-membrane",
   "metadata": {},
   "outputs": [],
   "source": [
    "inv_categories_dict = pickle.load(open('/barleyhome/sgutstei/Projects/opt-tfer-2/dataset_info/caltech101_dicts_all.pkl','rb'))"
   ]
  },
  {
   "cell_type": "code",
   "execution_count": 31,
   "id": "historical-government",
   "metadata": {},
   "outputs": [],
   "source": [
    "def get_stats(dataset_path):\n",
    "    ims = pickle.load(open(dataset_path,'rb'))\n",
    "    spc_dict = Counter(ims['fine_labels'])\n",
    "    spc_tot = sum([spc_dict[x] for x in spc_dict])\n",
    "    spc_list = sorted(list(set([spc_dict[x] for x in spc_dict])))\n",
    "    print(\"spc's: \", spc_list,\"\\n\", min(spc_list), sum(spc_list)/len(spc_list), max(spc_list), spc_tot)\n",
    "    out_str = \"\"\n",
    "    ctr=0\n",
    "    for x in sorted(spc_dict):\n",
    "        print (\"{}:{}\".format(x,spc_dict[x]),end=\" -- \")\n",
    "        if ctr % 10 == 9:\n",
    "            print(\"\\n\")\n",
    "            ctr =0\n",
    "        else: \n",
    "            ctr +=1\n",
    "    return "
   ]
  },
  {
   "cell_type": "code",
   "execution_count": 32,
   "id": "civilian-error",
   "metadata": {},
   "outputs": [
    {
     "name": "stdout",
     "output_type": "stream",
     "text": [
      "spc's:  [10] \n",
      " 10 10.0 10 350\n",
      "5:10 -- 8:10 -- 9:10 -- 10:10 -- 12:10 -- 13:10 -- 16:10 -- 17:10 -- 20:10 -- 22:10 -- \n",
      "\n",
      "23:10 -- 25:10 -- 28:10 -- 33:10 -- 37:10 -- 39:10 -- 40:10 -- 41:10 -- 48:10 -- 49:10 -- \n",
      "\n",
      "58:10 -- 60:10 -- 61:10 -- 68:10 -- 69:10 -- 71:10 -- 76:10 -- 81:10 -- 84:10 -- 85:10 -- \n",
      "\n",
      "86:10 -- 87:10 -- 89:10 -- 90:10 -- 94:10 -- "
     ]
    }
   ],
   "source": [
    "get_stats(\"../cifar-100-python/cifar100_living_notliving/trgt_tasks_10_a/train\")"
   ]
  },
  {
   "cell_type": "code",
   "execution_count": 33,
   "id": "biblical-recall",
   "metadata": {},
   "outputs": [
    {
     "name": "stdout",
     "output_type": "stream",
     "text": [
      "spc's:  [28, 29, 30, 31, 32, 33, 34, 35, 37, 38, 39, 40, 41, 42, 43, 44, 45, 47, 48, 53, 54, 55, 56, 57, 58, 60, 64, 66, 69, 70, 71, 75, 83, 106, 166, 361, 664] \n",
      " 28 78.48648648648648 664 3530\n",
      "1:361 -- 3:166 -- 6:664 -- 8:34 -- 10:44 -- 11:38 -- 13:106 -- 15:35 -- 17:75 -- 19:35 -- \n",
      "\n",
      "25:39 -- 26:57 -- 27:60 -- 28:58 -- 29:41 -- 30:42 -- 32:55 -- 34:53 -- 35:56 -- 37:53 -- \n",
      "\n",
      "38:43 -- 42:55 -- 43:37 -- 45:28 -- 48:83 -- 50:44 -- 52:66 -- 54:53 -- 55:71 -- 59:64 -- \n",
      "\n",
      "60:34 -- 61:54 -- 63:33 -- 67:45 -- 68:29 -- 69:32 -- 71:31 -- 72:37 -- 74:28 -- 77:48 -- \n",
      "\n",
      "78:40 -- 82:69 -- 83:47 -- 87:71 -- 88:48 -- 90:29 -- 91:70 -- 92:40 -- 93:71 -- 96:30 -- \n",
      "\n",
      "98:28 -- "
     ]
    }
   ],
   "source": [
    "get_stats(\"./caltech101_living_not_living/src_tasks/train\")"
   ]
  },
  {
   "cell_type": "code",
   "execution_count": 34,
   "id": "bigger-pathology",
   "metadata": {},
   "outputs": [
    {
     "name": "stdout",
     "output_type": "stream",
     "text": [
      "spc's:  [25, 26, 27, 28, 29, 32, 33, 34, 35, 37, 39, 41, 42, 43, 45, 46, 47, 48, 49, 50, 51, 52, 53, 55, 62, 63, 67, 68, 70, 72, 73, 81, 82, 88, 94, 102, 198, 662] \n",
      " 25 72.34210526315789 662 3269\n",
      "4:662 -- 5:45 -- 7:34 -- 9:39 -- 12:27 -- 14:81 -- 16:70 -- 18:41 -- 20:102 -- 21:39 -- \n",
      "\n",
      "22:48 -- 23:51 -- 24:88 -- 31:47 -- 33:43 -- 36:62 -- 39:53 -- 40:70 -- 41:55 -- 44:28 -- \n",
      "\n",
      "46:42 -- 47:82 -- 49:34 -- 51:73 -- 53:25 -- 56:94 -- 57:50 -- 58:67 -- 62:35 -- 64:72 -- \n",
      "\n",
      "65:26 -- 66:63 -- 70:39 -- 73:43 -- 75:47 -- 76:68 -- 79:33 -- 80:52 -- 81:32 -- 84:29 -- \n",
      "\n",
      "85:53 -- 86:37 -- 89:53 -- 94:62 -- 95:198 -- 97:48 -- 99:46 -- 100:32 -- 101:49 -- "
     ]
    }
   ],
   "source": [
    "get_stats(\"./caltech101_living_not_living/trgt_tasks/train\")"
   ]
  },
  {
   "cell_type": "code",
   "execution_count": 36,
   "id": "laden-madness",
   "metadata": {},
   "outputs": [
    {
     "name": "stdout",
     "output_type": "stream",
     "text": [
      "spc's:  [10] \n",
      " 10 10.0 10 490\n",
      "4:10 -- 5:10 -- 7:10 -- 9:10 -- 12:10 -- 14:10 -- 16:10 -- 18:10 -- 20:10 -- 21:10 -- \n",
      "\n",
      "22:10 -- 23:10 -- 24:10 -- 31:10 -- 33:10 -- 36:10 -- 39:10 -- 40:10 -- 41:10 -- 44:10 -- \n",
      "\n",
      "46:10 -- 47:10 -- 49:10 -- 51:10 -- 53:10 -- 56:10 -- 57:10 -- 58:10 -- 62:10 -- 64:10 -- \n",
      "\n",
      "65:10 -- 66:10 -- 70:10 -- 73:10 -- 75:10 -- 76:10 -- 79:10 -- 80:10 -- 81:10 -- 84:10 -- \n",
      "\n",
      "85:10 -- 86:10 -- 89:10 -- 94:10 -- 95:10 -- 97:10 -- 99:10 -- 100:10 -- 101:10 -- "
     ]
    }
   ],
   "source": [
    "get_stats(\"./caltech101_living_not_living/trgt_tasks_10_a/train\")"
   ]
  },
  {
   "cell_type": "code",
   "execution_count": 23,
   "id": "romantic-circle",
   "metadata": {},
   "outputs": [],
   "source": [
    "def show_image2(samp, data_dict):\n",
    "    test_im = data_dict['data'][samp]\n",
    "    zz=test_im.reshape(1,3,32,32)\n",
    "    zz=zz[0,:]\n",
    "    zz=zz.transpose(1,2,0)\n",
    "    zz=zz.astype(int)\n",
    "    im_name = inv_categories_dict[data_dict['fine_labels'][samp]]\n",
    "    file_name = data_dict['filenames'][samp]\n",
    "    print(im_name, file_name)\n",
    "    imshow(zz)"
   ]
  },
  {
   "cell_type": "code",
   "execution_count": 57,
   "id": "eight-trance",
   "metadata": {},
   "outputs": [],
   "source": [
    "os.listdir('../cifar-100-python')\n",
    "train_ims = pickle.load(open(\"../cifar-100-python/cifar100_living_notliving/trgt_tasks_10_a/train\",'rb'))"
   ]
  },
  {
   "cell_type": "code",
   "execution_count": 58,
   "id": "level-township",
   "metadata": {},
   "outputs": [
    {
     "data": {
      "text/plain": [
       "{10}"
      ]
     },
     "execution_count": 58,
     "metadata": {},
     "output_type": "execute_result"
    }
   ],
   "source": [
    "spc_dict = Counter(train_ims['fine_labels'])\n",
    "spc_set = set([spc_dict[x] for x in spc_dict])\n",
    "spc_set"
   ]
  },
  {
   "cell_type": "code",
   "execution_count": 69,
   "id": "painted-growth",
   "metadata": {},
   "outputs": [],
   "source": [
    "train_ims = pickle.load(open(\"./caltech101_living_not_living/src_tasks/train\",'rb'))"
   ]
  },
  {
   "cell_type": "code",
   "execution_count": 70,
   "id": "ignored-hands",
   "metadata": {},
   "outputs": [
    {
     "name": "stdout",
     "output_type": "stream",
     "text": [
      "1 361\n",
      "3 166\n",
      "6 664\n",
      "8 34\n",
      "10 44\n",
      "11 38\n",
      "13 106\n",
      "15 35\n",
      "17 75\n",
      "19 35\n",
      "25 39\n",
      "26 57\n",
      "27 60\n",
      "28 58\n",
      "29 41\n",
      "30 42\n",
      "32 55\n",
      "34 53\n",
      "35 56\n",
      "37 53\n",
      "38 43\n",
      "42 55\n",
      "43 37\n",
      "45 28\n",
      "48 83\n",
      "50 44\n",
      "52 66\n",
      "54 53\n",
      "55 71\n",
      "59 64\n",
      "60 34\n",
      "61 54\n",
      "63 33\n",
      "67 45\n",
      "68 29\n",
      "69 32\n",
      "71 31\n",
      "72 37\n",
      "74 28\n",
      "77 48\n",
      "78 40\n",
      "82 69\n",
      "83 47\n",
      "87 71\n",
      "88 48\n",
      "90 29\n",
      "91 70\n",
      "92 40\n",
      "93 71\n",
      "96 30\n",
      "98 28\n"
     ]
    }
   ],
   "source": [
    "spc = Counter(train_ims['fine_labels'])\n",
    "for x in sorted(spc):\n",
    "    print (x,spc[x])"
   ]
  },
  {
   "cell_type": "code",
   "execution_count": 32,
   "id": "divine-companion",
   "metadata": {},
   "outputs": [
    {
     "name": "stdout",
     "output_type": "stream",
     "text": [
      "lamp lamp_image_0017.jpg\n"
     ]
    },
    {
     "data": {
      "image/png": "[encoded data removed]",
      "text/plain": [
       "<Figure size 432x288 with 1 Axes>"
      ]
     },
     "metadata": {
      "needs_background": "light"
     },
     "output_type": "display_data"
    }
   ],
   "source": [
    "show_image2(40,train_ims)"
   ]
  },
  {
   "cell_type": "code",
   "execution_count": 31,
   "id": "durable-bathroom",
   "metadata": {},
   "outputs": [
    {
     "data": {
      "text/plain": [
       "87.0"
      ]
     },
     "execution_count": 31,
     "metadata": {},
     "output_type": "execute_result"
    }
   ],
   "source": [
    "vv=train_ims['data'][0]\n",
    "vv.min()"
   ]
  },
  {
   "cell_type": "code",
   "execution_count": 33,
   "id": "conservative-geneva",
   "metadata": {},
   "outputs": [],
   "source": [
    "train_ims = pickle.load(open(\"./caltech101_living_not_living/src_tasks/train\",'rb'))"
   ]
  },
  {
   "cell_type": "code",
   "execution_count": 36,
   "id": "utility-tourism",
   "metadata": {},
   "outputs": [
    {
     "name": "stdout",
     "output_type": "stream",
     "text": [
      "sunflower sunflower_image_0029.jpg\n"
     ]
    },
    {
     "data": {
      "image/png": "[encoded data removed]",
      "text/plain": [
       "<Figure size 432x288 with 1 Axes>"
      ]
     },
     "metadata": {
      "needs_background": "light"
     },
     "output_type": "display_data"
    }
   ],
   "source": [
    "show_image2(500,train_ims)"
   ]
  },
  {
   "cell_type": "code",
   "execution_count": 37,
   "id": "colonial-alloy",
   "metadata": {},
   "outputs": [
    {
     "data": {
      "text/plain": [
       "'/mnt/growler/barleyhome/sgutstei/.keras/datasets/caltech-101'"
      ]
     },
     "execution_count": 37,
     "metadata": {},
     "output_type": "execute_result"
    }
   ],
   "source": [
    "os.getcwd()"
   ]
  },
  {
   "cell_type": "code",
   "execution_count": null,
   "id": "worth-polymer",
   "metadata": {},
   "outputs": [],
   "source": []
  }
 ],
 "metadata": {
  "kernelspec": {
   "display_name": "Python 3",
   "language": "python",
   "name": "python3"
  },
  "language_info": {
   "codemirror_mode": {
    "name": "ipython",
    "version": 3
   },
   "file_extension": ".py",
   "mimetype": "text/x-python",
   "name": "python",
   "nbconvert_exporter": "python",
   "pygments_lexer": "ipython3",
   "version": "3.7.6"
  }
 },
 "nbformat": 4,
 "nbformat_minor": 5
}
